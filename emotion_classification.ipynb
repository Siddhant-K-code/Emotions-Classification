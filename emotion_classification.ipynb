{
  "nbformat": 4,
  "nbformat_minor": 0,
  "metadata": {
    "kernelspec": {
      "name": "python3",
      "display_name": "Python 3",
      "language": "python"
    },
    "language_info": {
      "name": "python",
      "version": "3.8.3-final",
      "mimetype": "text/x-python",
      "codemirror_mode": {
        "name": "ipython",
        "version": 3
      },
      "pygments_lexer": "ipython3",
      "nbconvert_exporter": "python",
      "file_extension": ".py"
    },
    "colab": {
      "name": "emotion-classification.ipynb",
      "provenance": [],
      "include_colab_link": true
    }
  },
  "cells": [
    {
      "cell_type": "markdown",
      "metadata": {
        "id": "view-in-github",
        "colab_type": "text"
      },
      "source": [
        "<a href=\"https://colab.research.google.com/github/Siddhant-K-code/Emotions-Classification/blob/main/emotion_classification.ipynb\" target=\"_parent\"><img src=\"https://colab.research.google.com/assets/colab-badge.svg\" alt=\"Open In Colab\"/></a>"
      ]
    },
    {
      "cell_type": "markdown",
      "metadata": {
        "id": "SfwEUAWA3HAb"
      },
      "source": [
        "## Import Necessary Libraries"
      ]
    },
    {
      "cell_type": "code",
      "metadata": {
        "id": "G7rHKL0KNteY",
        "trusted": true,
        "colab": {
          "base_uri": "https://localhost:8080/"
        },
        "outputId": "199a2e08-6f12-4d98-cf18-80113c5c877b"
      },
      "source": [
        "!pip install numpy\n",
        "!pip install pandas\n",
        "!pip install keras\n",
        "!pip install matplotlib\n",
        "!pip install scikit-plot\n",
        "\n",
        "import numpy as np\n",
        "import keras\n",
        "from  keras.preprocessing.text import Tokenizer\n",
        "from keras.preprocessing.sequence import pad_sequences\n",
        "import os\n",
        "import pandas as pd\n",
        "from keras.utils import to_categorical\n",
        "import matplotlib.pyplot as plt\n",
        "from sklearn.metrics import classification_report\n",
        "import scikitplot\n",
        "from scikitplot.metrics import plot_confusion_matrix\n",
        "\n",
        "import warnings\n",
        "warnings.filterwarnings('ignore')"
      ],
      "execution_count": 1,
      "outputs": [
        {
          "output_type": "stream",
          "text": [
            "Requirement already satisfied: numpy in /usr/local/lib/python3.6/dist-packages (1.19.5)\n",
            "Requirement already satisfied: pandas in /usr/local/lib/python3.6/dist-packages (1.1.5)\n",
            "Requirement already satisfied: pytz>=2017.2 in /usr/local/lib/python3.6/dist-packages (from pandas) (2018.9)\n",
            "Requirement already satisfied: numpy>=1.15.4 in /usr/local/lib/python3.6/dist-packages (from pandas) (1.19.5)\n",
            "Requirement already satisfied: python-dateutil>=2.7.3 in /usr/local/lib/python3.6/dist-packages (from pandas) (2.8.1)\n",
            "Requirement already satisfied: six>=1.5 in /usr/local/lib/python3.6/dist-packages (from python-dateutil>=2.7.3->pandas) (1.15.0)\n",
            "Requirement already satisfied: keras in /usr/local/lib/python3.6/dist-packages (2.4.3)\n",
            "Requirement already satisfied: scipy>=0.14 in /usr/local/lib/python3.6/dist-packages (from keras) (1.4.1)\n",
            "Requirement already satisfied: h5py in /usr/local/lib/python3.6/dist-packages (from keras) (2.10.0)\n",
            "Requirement already satisfied: pyyaml in /usr/local/lib/python3.6/dist-packages (from keras) (3.13)\n",
            "Requirement already satisfied: numpy>=1.9.1 in /usr/local/lib/python3.6/dist-packages (from keras) (1.19.5)\n",
            "Requirement already satisfied: six in /usr/local/lib/python3.6/dist-packages (from h5py->keras) (1.15.0)\n",
            "Requirement already satisfied: matplotlib in /usr/local/lib/python3.6/dist-packages (3.2.2)\n",
            "Requirement already satisfied: cycler>=0.10 in /usr/local/lib/python3.6/dist-packages (from matplotlib) (0.10.0)\n",
            "Requirement already satisfied: numpy>=1.11 in /usr/local/lib/python3.6/dist-packages (from matplotlib) (1.19.5)\n",
            "Requirement already satisfied: kiwisolver>=1.0.1 in /usr/local/lib/python3.6/dist-packages (from matplotlib) (1.3.1)\n",
            "Requirement already satisfied: pyparsing!=2.0.4,!=2.1.2,!=2.1.6,>=2.0.1 in /usr/local/lib/python3.6/dist-packages (from matplotlib) (2.4.7)\n",
            "Requirement already satisfied: python-dateutil>=2.1 in /usr/local/lib/python3.6/dist-packages (from matplotlib) (2.8.1)\n",
            "Requirement already satisfied: six in /usr/local/lib/python3.6/dist-packages (from cycler>=0.10->matplotlib) (1.15.0)\n",
            "Collecting scikit-plot\n",
            "  Downloading https://files.pythonhosted.org/packages/7c/47/32520e259340c140a4ad27c1b97050dd3254fdc517b1d59974d47037510e/scikit_plot-0.3.7-py3-none-any.whl\n",
            "Requirement already satisfied: scipy>=0.9 in /usr/local/lib/python3.6/dist-packages (from scikit-plot) (1.4.1)\n",
            "Requirement already satisfied: joblib>=0.10 in /usr/local/lib/python3.6/dist-packages (from scikit-plot) (1.0.0)\n",
            "Requirement already satisfied: scikit-learn>=0.18 in /usr/local/lib/python3.6/dist-packages (from scikit-plot) (0.22.2.post1)\n",
            "Requirement already satisfied: matplotlib>=1.4.0 in /usr/local/lib/python3.6/dist-packages (from scikit-plot) (3.2.2)\n",
            "Requirement already satisfied: numpy>=1.13.3 in /usr/local/lib/python3.6/dist-packages (from scipy>=0.9->scikit-plot) (1.19.5)\n",
            "Requirement already satisfied: kiwisolver>=1.0.1 in /usr/local/lib/python3.6/dist-packages (from matplotlib>=1.4.0->scikit-plot) (1.3.1)\n",
            "Requirement already satisfied: pyparsing!=2.0.4,!=2.1.2,!=2.1.6,>=2.0.1 in /usr/local/lib/python3.6/dist-packages (from matplotlib>=1.4.0->scikit-plot) (2.4.7)\n",
            "Requirement already satisfied: cycler>=0.10 in /usr/local/lib/python3.6/dist-packages (from matplotlib>=1.4.0->scikit-plot) (0.10.0)\n",
            "Requirement already satisfied: python-dateutil>=2.1 in /usr/local/lib/python3.6/dist-packages (from matplotlib>=1.4.0->scikit-plot) (2.8.1)\n",
            "Requirement already satisfied: six in /usr/local/lib/python3.6/dist-packages (from cycler>=0.10->matplotlib>=1.4.0->scikit-plot) (1.15.0)\n",
            "Installing collected packages: scikit-plot\n",
            "Successfully installed scikit-plot-0.3.7\n"
          ],
          "name": "stdout"
        }
      ]
    },
    {
      "cell_type": "markdown",
      "metadata": {
        "id": "r1dtvdVm3Wqq"
      },
      "source": [
        "# Create a Dataframe for reading and analysing the text files easily"
      ]
    },
    {
      "cell_type": "code",
      "metadata": {
        "id": "uVI0V45VPqkH",
        "trusted": true
      },
      "source": [
        "df_train = pd.read_csv('https://raw.githubusercontent.com/Siddhant-K-code/emotions-classification-dataset/main/train.txt?token=ANEESCH3D6RYYKDTWA7ONXLAEPA7K', header =None, sep =';', names = ['Input','Sentiment'], encoding='utf-8')\n",
        "df_test = pd.read_csv('https://raw.githubusercontent.com/Siddhant-K-code/emotions-classification-dataset/main/test.txt?token=ANEESCCHCPCLNAEAEAOV2OLAEPA4W', header = None, sep =';', names = ['Input','Sentiment'],encoding='utf-8')\n",
        "df_val=pd.read_csv('https://raw.githubusercontent.com/Siddhant-K-code/emotions-classification-dataset/main/val.txt?token=ANEESCC7A43DJ5BR6M7TXHLAEPBAW',header=None,sep=';',names=['Input','Sentiment'],encoding='utf-8')"
      ],
      "execution_count": 103,
      "outputs": []
    },
    {
      "cell_type": "code",
      "metadata": {
        "id": "t5UXwqnoOkGV",
        "trusted": true,
        "colab": {
          "base_uri": "https://localhost:8080/"
        },
        "outputId": "14909216-4476-46c9-bbfa-635ea667caab"
      },
      "source": [
        "df_train.Sentiment.value_counts()"
      ],
      "execution_count": 104,
      "outputs": [
        {
          "output_type": "execute_result",
          "data": {
            "text/plain": [
              "joy         5362\n",
              "sadness     4666\n",
              "anger       2159\n",
              "fear        1937\n",
              "love        1304\n",
              "surprise     572\n",
              "hate         300\n",
              "Name: Sentiment, dtype: int64"
            ]
          },
          "metadata": {
            "tags": []
          },
          "execution_count": 104
        }
      ]
    },
    {
      "cell_type": "markdown",
      "metadata": {
        "id": "weLVgoak3lR0"
      },
      "source": [
        "## Reading the Train and Validation Data"
      ]
    },
    {
      "cell_type": "code",
      "metadata": {
        "id": "8jfpnq0qPEUF",
        "trusted": true
      },
      "source": [
        "X=df_train['Input']\n"
      ],
      "execution_count": 62,
      "outputs": []
    },
    {
      "cell_type": "code",
      "metadata": {
        "id": "YsdBhABuRkc2",
        "trusted": true
      },
      "source": [
        "lst=[]\n",
        "for i in X:\n",
        "  lst.append(len(i))\n"
      ],
      "execution_count": 63,
      "outputs": []
    },
    {
      "cell_type": "code",
      "metadata": {
        "id": "Lf_wMk5wR7Wd",
        "trusted": true,
        "colab": {
          "base_uri": "https://localhost:8080/",
          "height": 290
        },
        "outputId": "85b35209-7fe4-476b-94e1-d8645744c30b"
      },
      "source": [
        "len1=pd.DataFrame(lst)\n",
        "len1.describe()"
      ],
      "execution_count": 64,
      "outputs": [
        {
          "output_type": "execute_result",
          "data": {
            "text/html": [
              "<div>\n",
              "<style scoped>\n",
              "    .dataframe tbody tr th:only-of-type {\n",
              "        vertical-align: middle;\n",
              "    }\n",
              "\n",
              "    .dataframe tbody tr th {\n",
              "        vertical-align: top;\n",
              "    }\n",
              "\n",
              "    .dataframe thead th {\n",
              "        text-align: right;\n",
              "    }\n",
              "</style>\n",
              "<table border=\"1\" class=\"dataframe\">\n",
              "  <thead>\n",
              "    <tr style=\"text-align: right;\">\n",
              "      <th></th>\n",
              "      <th>0</th>\n",
              "    </tr>\n",
              "  </thead>\n",
              "  <tbody>\n",
              "    <tr>\n",
              "      <th>count</th>\n",
              "      <td>16300.000000</td>\n",
              "    </tr>\n",
              "    <tr>\n",
              "      <th>mean</th>\n",
              "      <td>97.200368</td>\n",
              "    </tr>\n",
              "    <tr>\n",
              "      <th>std</th>\n",
              "      <td>55.892579</td>\n",
              "    </tr>\n",
              "    <tr>\n",
              "      <th>min</th>\n",
              "      <td>7.000000</td>\n",
              "    </tr>\n",
              "    <tr>\n",
              "      <th>25%</th>\n",
              "      <td>54.000000</td>\n",
              "    </tr>\n",
              "    <tr>\n",
              "      <th>50%</th>\n",
              "      <td>86.000000</td>\n",
              "    </tr>\n",
              "    <tr>\n",
              "      <th>75%</th>\n",
              "      <td>130.000000</td>\n",
              "    </tr>\n",
              "    <tr>\n",
              "      <th>max</th>\n",
              "      <td>327.000000</td>\n",
              "    </tr>\n",
              "  </tbody>\n",
              "</table>\n",
              "</div>"
            ],
            "text/plain": [
              "                  0\n",
              "count  16300.000000\n",
              "mean      97.200368\n",
              "std       55.892579\n",
              "min        7.000000\n",
              "25%       54.000000\n",
              "50%       86.000000\n",
              "75%      130.000000\n",
              "max      327.000000"
            ]
          },
          "metadata": {
            "tags": []
          },
          "execution_count": 64
        }
      ]
    },
    {
      "cell_type": "code",
      "metadata": {
        "id": "JBAgUQh-1cCn",
        "trusted": true
      },
      "source": [
        "cts=[]\n",
        "for i in range(7,301):\n",
        "   ct=0\n",
        "   for k in lst:\n",
        "     if k==i:\n",
        "       ct+=1\n",
        "   cts.append(ct)"
      ],
      "execution_count": 65,
      "outputs": []
    },
    {
      "cell_type": "markdown",
      "metadata": {
        "id": "dwTyJqGO4JM0"
      },
      "source": [
        "# Trying to fix a length for the embedding layers' input"
      ]
    },
    {
      "cell_type": "code",
      "metadata": {
        "id": "UOYkt05D2Pkc",
        "trusted": true,
        "colab": {
          "base_uri": "https://localhost:8080/",
          "height": 265
        },
        "outputId": "9201f79e-8f2f-4fbc-863a-7d05907593a0"
      },
      "source": [
        "plt.bar(range(7,301),cts)\n",
        "plt.show()"
      ],
      "execution_count": 66,
      "outputs": [
        {
          "output_type": "display_data",
          "data": {
            "image/png": "[encoded data removed]",
            "text/plain": [
              "<Figure size 432x288 with 1 Axes>"
            ]
          },
          "metadata": {
            "tags": [],
            "needs_background": "light"
          }
        }
      ]
    },
    {
      "cell_type": "markdown",
      "metadata": {
        "id": "Vkx0Skhw4RTE"
      },
      "source": [
        "# Using The tokenizer Class to convert the sentences into word vectors"
      ]
    },
    {
      "cell_type": "code",
      "metadata": {
        "id": "HPqJjmc2Qd1q",
        "trusted": true
      },
      "source": [
        "tokenizer=Tokenizer(15212,lower=True,oov_token='UNK')\n",
        "tokenizer.fit_on_texts(X)"
      ],
      "execution_count": 67,
      "outputs": []
    },
    {
      "cell_type": "code",
      "metadata": {
        "id": "QAR53xsMQ9hp",
        "trusted": true,
        "colab": {
          "base_uri": "https://localhost:8080/"
        },
        "outputId": "2562c148-dad1-4d71-a9da-d8d7fb8b15b2"
      },
      "source": [
        "len(tokenizer.word_index)"
      ],
      "execution_count": 68,
      "outputs": [
        {
          "output_type": "execute_result",
          "data": {
            "text/plain": [
              "16448"
            ]
          },
          "metadata": {
            "tags": []
          },
          "execution_count": 68
        }
      ]
    },
    {
      "cell_type": "code",
      "metadata": {
        "id": "OPlKIuEJRHaJ",
        "trusted": true
      },
      "source": [
        "X_train=tokenizer.texts_to_sequences(X)\n",
        "X_train_pad=pad_sequences(X_train,maxlen=80,padding='post')"
      ],
      "execution_count": 69,
      "outputs": []
    },
    {
      "cell_type": "code",
      "metadata": {
        "id": "klWThk5xSiTj",
        "trusted": true
      },
      "source": [
        "df_train['Sentiment']=df_train.Sentiment.replace({'joy':0,'anger':1,'love':2,'sadness':3,'fear':4,'surprise':5,'hate':6})"
      ],
      "execution_count": 70,
      "outputs": []
    },
    {
      "cell_type": "code",
      "metadata": {
        "id": "IcB2LdpDTV1R",
        "trusted": true
      },
      "source": [
        "Y_train=df_train['Sentiment'].values\n"
      ],
      "execution_count": 71,
      "outputs": []
    },
    {
      "cell_type": "markdown",
      "metadata": {
        "id": "1Nxr63i-4eWH"
      },
      "source": [
        "# One hot Encoding the Emotion Values"
      ]
    },
    {
      "cell_type": "code",
      "metadata": {
        "id": "Cq4bajBpWKnU",
        "trusted": true
      },
      "source": [
        "Y_train_f=to_categorical(Y_train)"
      ],
      "execution_count": 72,
      "outputs": []
    },
    {
      "cell_type": "code",
      "metadata": {
        "id": "jM-qVgjjXHlb",
        "trusted": true,
        "colab": {
          "base_uri": "https://localhost:8080/"
        },
        "outputId": "8c6d155f-71da-42d6-e1e3-1c2745066906"
      },
      "source": [
        "Y_train_f[:7]"
      ],
      "execution_count": 73,
      "outputs": [
        {
          "output_type": "execute_result",
          "data": {
            "text/plain": [
              "array([[0., 0., 0., 1., 0., 0., 0.],\n",
              "       [0., 0., 0., 1., 0., 0., 0.],\n",
              "       [0., 1., 0., 0., 0., 0., 0.],\n",
              "       [0., 0., 1., 0., 0., 0., 0.],\n",
              "       [0., 1., 0., 0., 0., 0., 0.],\n",
              "       [0., 0., 0., 1., 0., 0., 0.],\n",
              "       [0., 0., 0., 0., 0., 1., 0.]], dtype=float32)"
            ]
          },
          "metadata": {
            "tags": []
          },
          "execution_count": 73
        }
      ]
    },
    {
      "cell_type": "code",
      "metadata": {
        "id": "PKJwSxEgYhay",
        "trusted": true
      },
      "source": [
        "X_val=df_val['Input']\n",
        "Y_val=df_val.Sentiment.replace({'joy':0,'anger':1,'love':2,'sadness':3,'fear':4,'surprise':5,'hate':6})"
      ],
      "execution_count": 74,
      "outputs": []
    },
    {
      "cell_type": "code",
      "metadata": {
        "id": "v-5tPraZYYH6",
        "trusted": true
      },
      "source": [
        "X_val_f=tokenizer.texts_to_sequences(X_val)\n",
        "X_val_pad=pad_sequences(X_val_f,maxlen=80,padding='post')"
      ],
      "execution_count": 75,
      "outputs": []
    },
    {
      "cell_type": "code",
      "metadata": {
        "id": "rLIVsrvgZLu_",
        "trusted": true
      },
      "source": [
        "Y_val_f=to_categorical(Y_val)"
      ],
      "execution_count": 76,
      "outputs": []
    },
    {
      "cell_type": "code",
      "metadata": {
        "id": "zKw08DYYZLxl",
        "trusted": true,
        "colab": {
          "base_uri": "https://localhost:8080/"
        },
        "outputId": "ed7e74be-e146-47d4-93ca-0df09850e79b"
      },
      "source": [
        "Y_val_f[:7]"
      ],
      "execution_count": 77,
      "outputs": [
        {
          "output_type": "execute_result",
          "data": {
            "text/plain": [
              "array([[0., 0., 0., 1., 0., 0., 0.],\n",
              "       [0., 0., 0., 1., 0., 0., 0.],\n",
              "       [0., 0., 1., 0., 0., 0., 0.],\n",
              "       [0., 1., 0., 0., 0., 0., 0.],\n",
              "       [1., 0., 0., 0., 0., 0., 0.],\n",
              "       [1., 0., 0., 0., 0., 0., 0.],\n",
              "       [1., 0., 0., 0., 0., 0., 0.]], dtype=float32)"
            ]
          },
          "metadata": {
            "tags": []
          },
          "execution_count": 77
        }
      ]
    },
    {
      "cell_type": "code",
      "metadata": {
        "id": "fTW2fLQZU8rx",
        "trusted": true
      },
      "source": [
        "from keras.models import Sequential\n",
        "from keras.layers import LSTM,Bidirectional,Dense,Embedding,Dropout\n"
      ],
      "execution_count": 78,
      "outputs": []
    },
    {
      "cell_type": "markdown",
      "metadata": {
        "id": "zzZgSic_4mb8"
      },
      "source": [
        "# Creating a Model"
      ]
    },
    {
      "cell_type": "code",
      "metadata": {
        "id": "F_tdJHIDVLqA",
        "trusted": true,
        "colab": {
          "base_uri": "https://localhost:8080/"
        },
        "outputId": "ac091b4d-07e0-46f7-d41c-683af2429ca6"
      },
      "source": [
        "model=Sequential()\n",
        "model.add(Embedding(15212,64,input_length=80))\n",
        "model.add(Dropout(0.7))\n",
        "model.add(Bidirectional(LSTM(80,return_sequences=True)))\n",
        "model.add(Bidirectional(LSTM(160)))\n",
        "model.add(Dense(7,activation='softmax'))\n",
        "print(model.summary())"
      ],
      "execution_count": 79,
      "outputs": [
        {
          "output_type": "stream",
          "text": [
            "Model: \"sequential_4\"\n",
            "_________________________________________________________________\n",
            "Layer (type)                 Output Shape              Param #   \n",
            "=================================================================\n",
            "embedding_4 (Embedding)      (None, 80, 64)            973568    \n",
            "_________________________________________________________________\n",
            "dropout_4 (Dropout)          (None, 80, 64)            0         \n",
            "_________________________________________________________________\n",
            "bidirectional_8 (Bidirection (None, 80, 160)           92800     \n",
            "_________________________________________________________________\n",
            "bidirectional_9 (Bidirection (None, 320)               410880    \n",
            "_________________________________________________________________\n",
            "dense_4 (Dense)              (None, 7)                 2247      \n",
            "=================================================================\n",
            "Total params: 1,479,495\n",
            "Trainable params: 1,479,495\n",
            "Non-trainable params: 0\n",
            "_________________________________________________________________\n",
            "None\n"
          ],
          "name": "stdout"
        }
      ]
    },
    {
      "cell_type": "markdown",
      "metadata": {
        "id": "lQwbhHiO4rM7"
      },
      "source": [
        "# Compiling and running the model"
      ]
    },
    {
      "cell_type": "code",
      "metadata": {
        "id": "_KYfMEyXVxK2",
        "trusted": true
      },
      "source": [
        "model.compile(optimizer='adam',loss='categorical_crossentropy',metrics=['accuracy'])"
      ],
      "execution_count": 80,
      "outputs": []
    },
    {
      "cell_type": "code",
      "metadata": {
        "id": "J5UxHV4EV_qA",
        "trusted": true,
        "colab": {
          "base_uri": "https://localhost:8080/"
        },
        "outputId": "0cf30f07-e47a-4d6b-8bfa-763159fe398d"
      },
      "source": [
        "hist=model.fit(X_train_pad,Y_train_f,epochs=12,validation_data=(X_val_pad,Y_val_f))"
      ],
      "execution_count": 81,
      "outputs": [
        {
          "output_type": "stream",
          "text": [
            "Epoch 1/12\n",
            "510/510 [==============================] - 244s 467ms/step - loss: 1.5671 - accuracy: 0.3689 - val_loss: 0.9005 - val_accuracy: 0.6544\n",
            "Epoch 2/12\n",
            "510/510 [==============================] - 236s 463ms/step - loss: 0.7068 - accuracy: 0.7300 - val_loss: 0.4163 - val_accuracy: 0.8616\n",
            "Epoch 3/12\n",
            "510/510 [==============================] - 235s 461ms/step - loss: 0.3551 - accuracy: 0.8762 - val_loss: 0.2639 - val_accuracy: 0.9042\n",
            "Epoch 4/12\n",
            "510/510 [==============================] - 235s 461ms/step - loss: 0.2587 - accuracy: 0.9075 - val_loss: 0.2378 - val_accuracy: 0.9114\n",
            "Epoch 5/12\n",
            "510/510 [==============================] - 234s 458ms/step - loss: 0.2118 - accuracy: 0.9231 - val_loss: 0.2402 - val_accuracy: 0.9100\n",
            "Epoch 6/12\n",
            "510/510 [==============================] - 234s 460ms/step - loss: 0.1876 - accuracy: 0.9309 - val_loss: 0.2439 - val_accuracy: 0.9158\n",
            "Epoch 7/12\n",
            "510/510 [==============================] - 234s 459ms/step - loss: 0.1586 - accuracy: 0.9411 - val_loss: 0.2062 - val_accuracy: 0.9172\n",
            "Epoch 8/12\n",
            "510/510 [==============================] - 234s 458ms/step - loss: 0.1536 - accuracy: 0.9454 - val_loss: 0.2128 - val_accuracy: 0.9230\n",
            "Epoch 9/12\n",
            "510/510 [==============================] - 234s 458ms/step - loss: 0.1306 - accuracy: 0.9504 - val_loss: 0.1973 - val_accuracy: 0.9240\n",
            "Epoch 10/12\n",
            "510/510 [==============================] - 235s 460ms/step - loss: 0.1120 - accuracy: 0.9577 - val_loss: 0.2042 - val_accuracy: 0.9255\n",
            "Epoch 11/12\n",
            "510/510 [==============================] - 234s 458ms/step - loss: 0.1030 - accuracy: 0.9618 - val_loss: 0.2303 - val_accuracy: 0.9230\n",
            "Epoch 12/12\n",
            "510/510 [==============================] - 234s 460ms/step - loss: 0.0877 - accuracy: 0.9667 - val_loss: 0.2009 - val_accuracy: 0.9274\n"
          ],
          "name": "stdout"
        }
      ]
    },
    {
      "cell_type": "markdown",
      "metadata": {
        "id": "Q4kyEJFfOrff"
      },
      "source": [
        "# Plotting the Loss and Accuracy Curves"
      ]
    },
    {
      "cell_type": "code",
      "metadata": {
        "id": "r9ZX9npB95PY",
        "trusted": true,
        "colab": {
          "base_uri": "https://localhost:8080/",
          "height": 265
        },
        "outputId": "79f3fdc4-64c5-4481-9d51-1397727f4779"
      },
      "source": [
        "plt.plot(hist.history['accuracy'],c='b',label='train')\n",
        "plt.plot(hist.history['val_accuracy'],c='r',label='validation')\n",
        "plt.legend(loc='lower right')\n",
        "plt.show()"
      ],
      "execution_count": 82,
      "outputs": [
        {
          "output_type": "display_data",
          "data": {
            "image/png": "[encoded data removed]",
            "text/plain": [
              "<Figure size 432x288 with 1 Axes>"
            ]
          },
          "metadata": {
            "tags": [],
            "needs_background": "light"
          }
        }
      ]
    },
    {
      "cell_type": "code",
      "metadata": {
        "id": "DPXjVCJe-dLM",
        "trusted": true,
        "colab": {
          "base_uri": "https://localhost:8080/",
          "height": 269
        },
        "outputId": "c47e8d54-3e11-4ba3-a1c1-67c2a14036d5"
      },
      "source": [
        "plt.plot(hist.history['loss'],c='orange',label='train')\n",
        "plt.plot(hist.history['val_loss'],c='g',label='validation')\n",
        "plt.legend(loc='upper right')\n",
        "plt.show()"
      ],
      "execution_count": 83,
      "outputs": [
        {
          "output_type": "display_data",
          "data": {
            "image/png": "[encoded data removed]",
            "text/plain": [
              "<Figure size 432x288 with 1 Axes>"
            ]
          },
          "metadata": {
            "tags": [],
            "needs_background": "light"
          }
        }
      ]
    },
    {
      "cell_type": "markdown",
      "metadata": {
        "id": "T8wkWWRM4wj5"
      },
      "source": [
        "# Checking for Test Data"
      ]
    },
    {
      "cell_type": "code",
      "metadata": {
        "id": "qiqCoFvpWFlI",
        "trusted": true
      },
      "source": [
        "X_test=df_test['Input']\n",
        "Y_test=df_test.Sentiment.replace({'joy':0,'anger':1,'love':2,'sadness':3,'fear':4,'surprise':5,'hate':6})"
      ],
      "execution_count": 85,
      "outputs": []
    },
    {
      "cell_type": "code",
      "metadata": {
        "id": "a_puRzZNaI_i",
        "trusted": true
      },
      "source": [
        "X_test_f=tokenizer.texts_to_sequences(X_test)\n",
        "X_test_pad=pad_sequences(X_test_f,maxlen=80,padding='post')"
      ],
      "execution_count": 86,
      "outputs": []
    },
    {
      "cell_type": "code",
      "metadata": {
        "id": "ZWeCFXqBaUeF",
        "trusted": true
      },
      "source": [
        "Y_test_f=to_categorical(Y_test)"
      ],
      "execution_count": 87,
      "outputs": []
    },
    {
      "cell_type": "code",
      "metadata": {
        "id": "iVhdSBnWcV3q",
        "trusted": true,
        "colab": {
          "base_uri": "https://localhost:8080/"
        },
        "outputId": "422d5087-2c4c-4515-a059-486fd422cc85"
      },
      "source": [
        "X_test_pad.shape"
      ],
      "execution_count": 88,
      "outputs": [
        {
          "output_type": "execute_result",
          "data": {
            "text/plain": [
              "(2004, 80)"
            ]
          },
          "metadata": {
            "tags": []
          },
          "execution_count": 88
        }
      ]
    },
    {
      "cell_type": "code",
      "metadata": {
        "id": "K2gXQ80oaaok",
        "trusted": true,
        "colab": {
          "base_uri": "https://localhost:8080/"
        },
        "outputId": "3f6d5807-a61b-4c81-b033-579a74965bd4"
      },
      "source": [
        "Y_test_f[:7]"
      ],
      "execution_count": 89,
      "outputs": [
        {
          "output_type": "execute_result",
          "data": {
            "text/plain": [
              "array([[0., 0., 0., 1., 0., 0., 0.],\n",
              "       [0., 0., 0., 1., 0., 0., 0.],\n",
              "       [0., 0., 0., 1., 0., 0., 0.],\n",
              "       [1., 0., 0., 0., 0., 0., 0.],\n",
              "       [0., 0., 0., 1., 0., 0., 0.],\n",
              "       [0., 0., 0., 0., 1., 0., 0.],\n",
              "       [0., 1., 0., 0., 0., 0., 0.]], dtype=float32)"
            ]
          },
          "metadata": {
            "tags": []
          },
          "execution_count": 89
        }
      ]
    },
    {
      "cell_type": "markdown",
      "metadata": {
        "id": "KI2H_6jh444s"
      },
      "source": [
        "#Accuracy for Test Data"
      ]
    },
    {
      "cell_type": "code",
      "metadata": {
        "id": "PWY-3GJSacff",
        "trusted": true,
        "colab": {
          "base_uri": "https://localhost:8080/"
        },
        "outputId": "dfd92137-f712-4b00-e366-ca1dbd43914e"
      },
      "source": [
        "model.evaluate(X_test_pad,Y_test_f)"
      ],
      "execution_count": 90,
      "outputs": [
        {
          "output_type": "stream",
          "text": [
            "63/63 [==============================] - 8s 125ms/step - loss: 0.1912 - accuracy: 0.9197\n"
          ],
          "name": "stdout"
        },
        {
          "output_type": "execute_result",
          "data": {
            "text/plain": [
              "[0.19124265015125275, 0.9196606874465942]"
            ]
          },
          "metadata": {
            "tags": []
          },
          "execution_count": 90
        }
      ]
    },
    {
      "cell_type": "markdown",
      "metadata": {
        "id": "eDUBbS9dCnqc"
      },
      "source": [
        "# Plotting the Confusion matrix "
      ]
    },
    {
      "cell_type": "code",
      "metadata": {
        "id": "xSBIEISGA6Id",
        "trusted": true
      },
      "source": [
        "Y_pred=model.predict_classes(X_test_pad)"
      ],
      "execution_count": 91,
      "outputs": []
    },
    {
      "cell_type": "code",
      "metadata": {
        "id": "atULoe4HAqZv",
        "trusted": true,
        "colab": {
          "base_uri": "https://localhost:8080/",
          "height": 312
        },
        "outputId": "2e4b00c1-4aa4-4a18-97b7-30dd849e1955"
      },
      "source": [
        "plot_confusion_matrix(Y_test,Y_pred)"
      ],
      "execution_count": 92,
      "outputs": [
        {
          "output_type": "execute_result",
          "data": {
            "text/plain": [
              "<matplotlib.axes._subplots.AxesSubplot at 0x7fac0895ed68>"
            ]
          },
          "metadata": {
            "tags": []
          },
          "execution_count": 92
        },
        {
          "output_type": "display_data",
          "data": {
            "image/png": "[encoded data removed]",
            "text/plain": [
              "<Figure size 432x288 with 2 Axes>"
            ]
          },
          "metadata": {
            "tags": [],
            "needs_background": "light"
          }
        }
      ]
    },
    {
      "cell_type": "code",
      "metadata": {
        "id": "GebauRAfChiq",
        "trusted": true,
        "colab": {
          "base_uri": "https://localhost:8080/"
        },
        "outputId": "8a4b772b-a253-4285-fb5c-c258c500efdd"
      },
      "source": [
        "print(classification_report(Y_test,Y_pred))"
      ],
      "execution_count": 93,
      "outputs": [
        {
          "output_type": "stream",
          "text": [
            "              precision    recall  f1-score   support\n",
            "\n",
            "           0       0.93      0.94      0.94       695\n",
            "           1       0.91      0.92      0.91       275\n",
            "           2       0.80      0.79      0.79       159\n",
            "           3       0.97      0.95      0.96       581\n",
            "           4       0.91      0.88      0.90       224\n",
            "           5       0.72      0.83      0.77        66\n",
            "           6       1.00      1.00      1.00         4\n",
            "\n",
            "    accuracy                           0.92      2004\n",
            "   macro avg       0.89      0.90      0.90      2004\n",
            "weighted avg       0.92      0.92      0.92      2004\n",
            "\n"
          ],
          "name": "stdout"
        }
      ]
    },
    {
      "cell_type": "markdown",
      "metadata": {
        "id": "5SG8AtHq48uQ"
      },
      "source": [
        "# Creating a Function to check for Your own Sentence"
      ]
    },
    {
      "cell_type": "code",
      "metadata": {
        "id": "N4vDT3Eeft2i",
        "trusted": true
      },
      "source": [
        "def get_key(value):\n",
        "    dictionary={'joy':0,'anger':1,'love':2,'sadness':3,'fear':4,'surprise':5,'hate':6}\n",
        "    for key,val in dictionary.items():\n",
        "          if (val==value):\n",
        "            return key\n",
        "\n"
      ],
      "execution_count": 96,
      "outputs": []
    },
    {
      "cell_type": "code",
      "metadata": {
        "id": "AQuJATahalLP",
        "trusted": true
      },
      "source": [
        "def predict(sentence):\n",
        "  sentence_lst=[]\n",
        "  sentence_lst.append(sentence)\n",
        "  sentence_seq=tokenizer.texts_to_sequences(sentence_lst)\n",
        "  sentence_padded=pad_sequences(sentence_seq,maxlen=80,padding='post')\n",
        "  ans=get_key(model.predict_classes(sentence_padded))\n",
        "  print(\"The emotion predicted is\",ans)"
      ],
      "execution_count": 97,
      "outputs": []
    },
    {
      "cell_type": "markdown",
      "metadata": {
        "id": "J1_JYp1N5CFm"
      },
      "source": [
        "# Check for Your Own Sentence"
      ]
    },
    {
      "cell_type": "code",
      "metadata": {
        "id": "VcTTjsficgqf",
        "trusted": true,
        "colab": {
          "base_uri": "https://localhost:8080/"
        },
        "outputId": "62aff0a9-f0e4-4e8e-a143-e4cb49bbaf9c"
      },
      "source": [
        "predict(str(input('Enter a sentence : ')))\n"
      ],
      "execution_count": 107,
      "outputs": [
        {
          "output_type": "stream",
          "text": [
            "Enter a sentence : chup bsdk kutte, marja saale \n",
            "The emotion predicted is hate\n"
          ],
          "name": "stdout"
        }
      ]
    }
  ]
}